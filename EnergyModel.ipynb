{
 "cells": [
  {
   "cell_type": "code",
   "execution_count": 1,
   "id": "2177f180",
   "metadata": {},
   "outputs": [],
   "source": [
    "# You don't need these two lines if you have pip installed topologicpy\n",
    "import sys\n",
    "sys.path.append(\"C:/Users/wassimj/Documents/GitHub/\")"
   ]
  },
  {
   "cell_type": "markdown",
   "id": "fc2f458e",
   "metadata": {},
   "source": [
    "## Import the needed classes"
   ]
  },
  {
   "cell_type": "code",
   "execution_count": 1,
   "id": "d73a2db2",
   "metadata": {},
   "outputs": [],
   "source": [
    "# Import the needed classes\n",
    "from topologicpy.Vertex import Vertex\n",
    "from topologicpy.Face import Face\n",
    "from topologicpy.Cell import Cell\n",
    "from topologicpy.CellComplex import CellComplex\n",
    "from topologicpy.Cluster import Cluster\n",
    "from topologicpy.Topology import Topology\n",
    "from topologicpy.Dictionary import Dictionary\n",
    "from topologicpy.Color import Color\n",
    "from topologicpy.Plotly import Plotly\n",
    "from topologicpy.EnergyModel import EnergyModel"
   ]
  },
  {
   "cell_type": "markdown",
   "id": "9cfb2360",
   "metadata": {},
   "source": [
    "## Set the input variables for path names and load geometries"
   ]
  },
  {
   "cell_type": "code",
   "execution_count": 6,
   "id": "de5b7f6d",
   "metadata": {},
   "outputs": [],
   "source": [
    "import os\n",
    "# Set the needed file paths. Change to match your computer paths\n",
    "weatherFilePath = \"./topologicpy/assets/EnergyModel/GBR_London.Gatwick.037760_IWEC.epw\"\n",
    "designDayFilePath = \"./topologicpy/assets/EnergyModel/GBR_London.Gatwick.037760_IWEC.ddy\"\n",
    "osBinaryPath = \"D:/openstudioapplication-1.5.0/bin/openstudio.exe\"\n",
    "outputFolder =\"./topologicpy/assets/EnergyModel/\"\n",
    "buildingPath = \"./topologicpy/assets/EnergyModel/TopologicBuilding.brep\"\n",
    "shadingPath = \"./topologicpy/assets/EnergyModel/TopologicShadingSurfaces.brep\"\n",
    "\n",
    "building = Topology.ByImportedBRep(buildingPath)\n",
    "shadingSurfaces = Topology.ByImportedBRep(shadingPath)\n"
   ]
  },
  {
   "cell_type": "markdown",
   "id": "5059192c",
   "metadata": {},
   "source": [
    "# Create aperuters (External Windows)"
   ]
  },
  {
   "cell_type": "code",
   "execution_count": 3,
   "id": "b68e4581",
   "metadata": {},
   "outputs": [
    {
     "name": "stdout",
     "output_type": "stream",
     "text": [
      "30\n"
     ]
    }
   ],
   "source": [
    "# Create apertures (windows) by scaling the external vertical walls\n",
    "\n",
    "# Specify a glazing (window to wall) ratio:\n",
    "wwr = 0.5\n",
    "\n",
    "# Decompose the building\n",
    "d = CellComplex.Decompose(building)\n",
    "\n",
    "# Get the external vertical faces\n",
    "walls = d['externalVerticalFaces']\n",
    "apertures = []\n",
    "for wall in walls:\n",
    "    centroid = Topology.Centroid(wall)\n",
    "    aperture = Topology.Scale(wall, centroid, wwr, wwr, wwr)\n",
    "    apertures.append(aperture)\n",
    "building = Topology.AddApertures(building, apertures, subTopologyType=\"face\")\n",
    "\n",
    "d = CellComplex.Decompose(building)\n",
    "bhf = d['bottomHorizontalFaces']\n",
    "ihf = d['internalHorizontalFaces']\n",
    "thf = d ['topHorizontalFaces']\n",
    "hf = bhf+ihf+thf\n",
    "print(len(hf))\n",
    "floorLevels = [Vertex.Z(Topology.Centroid(f)) for f in hf]"
   ]
  },
  {
   "cell_type": "markdown",
   "id": "914a4cee",
   "metadata": {},
   "source": [
    "## Create an Energy Model"
   ]
  },
  {
   "cell_type": "code",
   "execution_count": 4,
   "id": "586c35f8",
   "metadata": {},
   "outputs": [],
   "source": [
    "model = EnergyModel.ByTopology(building=building, shadingSurfaces=shadingSurfaces, glazingRatio=0.25)"
   ]
  },
  {
   "cell_type": "markdown",
   "id": "166f68da",
   "metadata": {},
   "source": [
    "## Export the model to OSM and GBXML"
   ]
  },
  {
   "cell_type": "code",
   "execution_count": null,
   "id": "4fde964f",
   "metadata": {},
   "outputs": [],
   "source": [
    "# Uncomment these files and change output path if you wish to export the model\n",
    "#status01 = EnergyModel.ExportToOSM(model, outputFolder+\"/EnergModel.osm\", overwrite=True)\n",
    "#status02 = EnergyModel.ExportToGbXML(model, outputFolder+\"/EnergModel.xml\", overwrite=True)\n"
   ]
  },
  {
   "cell_type": "markdown",
   "id": "8460a981",
   "metadata": {},
   "source": [
    "## Run the Simulation"
   ]
  },
  {
   "cell_type": "code",
   "execution_count": 7,
   "id": "3cac4559",
   "metadata": {},
   "outputs": [
    {
     "data": {
      "application/vnd.jupyter.widget-view+json": {
       "model_id": "ed422ab57fd74ff9b7ba148588c6431a",
       "version_major": 2,
       "version_minor": 0
      },
      "text/plain": [
       "Running Simulation:   0%|          | 0/100 [00:00<?, ?it/s]"
      ]
     },
     "metadata": {},
     "output_type": "display_data"
    }
   ],
   "source": [
    "# Run the simulation\n",
    "model = EnergyModel.Run(model, weatherFilePath=weatherFilePath,\n",
    "                        osBinaryPath=osBinaryPath, outputFolder=outputFolder)\n"
   ]
  },
  {
   "cell_type": "markdown",
   "id": "9bb224ac",
   "metadata": {},
   "source": [
    "## Get the space names used in the energy model"
   ]
  },
  {
   "cell_type": "code",
   "execution_count": 8,
   "id": "f76b606d",
   "metadata": {},
   "outputs": [],
   "source": [
    "# Get the topologies from the energy model. These have the correct dictionaries with space names etc.\n",
    "topologies = EnergyModel.Topologies(model)\n",
    "cells = topologies['cells']\n",
    "\n",
    "# Get the required row names for the SQL query\n",
    "names = []\n",
    "for cell in cells:\n",
    "    d = Topology.Dictionary(cell)\n",
    "    name = Dictionary.ValueAtKey(d, 'TOPOLOGIC_name')\n",
    "    name = name.upper()+\"_THERMAL_ZONE\"\n",
    "    names.append(name)"
   ]
  },
  {
   "cell_type": "markdown",
   "id": "3464f2c9",
   "metadata": {},
   "source": [
    "## Set the report, table, and column names to retrieve from the SQL data"
   ]
  },
  {
   "cell_type": "code",
   "execution_count": 9,
   "id": "94d542f1",
   "metadata": {},
   "outputs": [],
   "source": [
    "# Set the report, table, and column names to retrieve from the SQL data\n",
    "\n",
    "# Here we specify three possible reports. We get them by index for convenience.\n",
    "reports = [\"HVACSizingSummary\", \"HVACSizingSummary\", \"SystemSummary\"]\n",
    "forStrings = [\"Entire Facility\", \"Entire Facility\", \"Entire Facility\"]\n",
    "tableNames = [\"Zone Sensible Cooling\", \"Zone Sensible Heating\", \"Time Not Comfortable Based on Simple ASHRAE 55-2004\"]\n",
    "columnNames = [\"User Design Load\", \"User Design Load\", \"Summer or Winter Clothes\"]\n",
    "unitsList = [\"W\", \"W\", \"hr\"]\n",
    "\n",
    "# Choose report 0, 1, or 2\n",
    "index = 0 \n",
    "\n",
    "reportName = reports[index]\n",
    "reportForString = forStrings[index]\n",
    "tableName = tableNames[index]\n",
    "columnName = columnNames[index]\n",
    "units = unitsList[index]\n",
    "\n",
    "# Get the values from the SQL data\n",
    "values = EnergyModel.Query(model,\n",
    "                          reportName = reportName,\n",
    "                          reportForString = reportForString,\n",
    "                          tableName = tableName,\n",
    "                          columnName = columnName,\n",
    "                          rowNames = names,\n",
    "                          units = units)\n"
   ]
  },
  {
   "cell_type": "markdown",
   "id": "07fef5f9",
   "metadata": {},
   "source": [
    "## Apply the values to the bottom face(s) of each space/cell."
   ]
  },
  {
   "cell_type": "code",
   "execution_count": 11,
   "id": "5ea10041",
   "metadata": {},
   "outputs": [
    {
     "ename": "TypeError",
     "evalue": "type NoneType doesn't define __round__ method",
     "output_type": "error",
     "traceback": [
      "\u001b[1;31m---------------------------------------------------------------------------\u001b[0m",
      "\u001b[1;31mTypeError\u001b[0m                                 Traceback (most recent call last)",
      "Cell \u001b[1;32mIn[11], line 8\u001b[0m\n\u001b[0;32m      6\u001b[0m bottomFaces \u001b[39m=\u001b[39m d[\u001b[39m'\u001b[39m\u001b[39mbottomHorizontalFaces\u001b[39m\u001b[39m'\u001b[39m]\n\u001b[0;32m      7\u001b[0m \u001b[39mfor\u001b[39;00m bottomFace \u001b[39min\u001b[39;00m bottomFaces:\n\u001b[1;32m----> 8\u001b[0m     d \u001b[39m=\u001b[39m Dictionary\u001b[39m.\u001b[39mByKeysValues([\u001b[39m\"\u001b[39m\u001b[39mvalue\u001b[39m\u001b[39m\"\u001b[39m, \u001b[39m\"\u001b[39m\u001b[39mlabel\u001b[39m\u001b[39m\"\u001b[39m], [values[i], \u001b[39mstr\u001b[39m(\u001b[39mround\u001b[39;49m(values[i], \u001b[39m2\u001b[39;49m))])\n\u001b[0;32m      9\u001b[0m     faces\u001b[39m.\u001b[39mappend(bottomFace)\n\u001b[0;32m     10\u001b[0m     s \u001b[39m=\u001b[39m Face\u001b[39m.\u001b[39mInternalVertex(bottomFace)\n",
      "\u001b[1;31mTypeError\u001b[0m: type NoneType doesn't define __round__ method"
     ]
    }
   ],
   "source": [
    "# This section is to apply the values only to the bottom face of each cell.\n",
    "faces = []\n",
    "selectors = []\n",
    "for i, cell in enumerate(cells):\n",
    "    d = Cell.Decompose(cell)\n",
    "    bottomFaces = d['bottomHorizontalFaces']\n",
    "    for bottomFace in bottomFaces:\n",
    "        d = Dictionary.ByKeysValues([\"value\", \"label\"], [values[i], str(round(values[i], 2))])\n",
    "        faces.append(bottomFace)\n",
    "        s = Face.InternalVertex(bottomFace)\n",
    "        s = Topology.SetDictionary(s, d)\n",
    "        selectors.append(s)\n",
    "faceCluster = Cluster.ByTopologies(faces)\n",
    "faceCluster = Topology.TransferDictionariesBySelectors(faceCluster, selectors, tranFaces=True, tolerance=0.0001)"
   ]
  },
  {
   "cell_type": "markdown",
   "id": "11b132af",
   "metadata": {},
   "source": [
    "## Create a Plotly figure and draw it."
   ]
  },
  {
   "cell_type": "code",
   "execution_count": 13,
   "id": "0f1dc8b5",
   "metadata": {},
   "outputs": [
    {
     "ename": "TypeError",
     "evalue": "'<' not supported between instances of 'NoneType' and 'NoneType'",
     "output_type": "error",
     "traceback": [
      "\u001b[1;31m---------------------------------------------------------------------------\u001b[0m",
      "\u001b[1;31mTypeError\u001b[0m                                 Traceback (most recent call last)",
      "Cell \u001b[1;32mIn[13], line 15\u001b[0m\n\u001b[0;32m     12\u001b[0m figure \u001b[39m=\u001b[39m Plotly\u001b[39m.\u001b[39mFigureByData(plotlyData, width\u001b[39m=\u001b[39m\u001b[39m800\u001b[39m, height\u001b[39m=\u001b[39m\u001b[39m600\u001b[39m)\n\u001b[0;32m     14\u001b[0m \u001b[39m# Add a colorbar\u001b[39;00m\n\u001b[1;32m---> 15\u001b[0m figure \u001b[39m=\u001b[39m Plotly\u001b[39m.\u001b[39;49mAddColorBar(figure, values\u001b[39m=\u001b[39;49mvalues, width\u001b[39m=\u001b[39;49m\u001b[39m30\u001b[39;49m, outlineWidth\u001b[39m=\u001b[39;49m\u001b[39m1\u001b[39;49m,\n\u001b[0;32m     16\u001b[0m                             nTicks\u001b[39m=\u001b[39;49m\u001b[39mlen\u001b[39;49m(values), title\u001b[39m=\u001b[39;49mtableName, subTitle\u001b[39m=\u001b[39;49mcolumnName,\n\u001b[0;32m     17\u001b[0m                             units\u001b[39m=\u001b[39;49munits, colorScale\u001b[39m=\u001b[39;49mcolorScale, mantissa\u001b[39m=\u001b[39;49m\u001b[39m2\u001b[39;49m)\n\u001b[0;32m     18\u001b[0m \u001b[39m# Show plotly figure\u001b[39;00m\n\u001b[0;32m     19\u001b[0m Plotly\u001b[39m.\u001b[39mShow(figure)\n",
      "File \u001b[1;32mc:\\Users\\Nakai\\TopologyCode\\topologicpy\\Plotly.py:55\u001b[0m, in \u001b[0;36mPlotly.AddColorBar\u001b[1;34m(figure, values, nTicks, xPosition, width, outlineWidth, title, subTitle, units, colorScale, mantissa)\u001b[0m\n\u001b[0;32m     53\u001b[0m \u001b[39mif\u001b[39;00m units:\n\u001b[0;32m     54\u001b[0m     units \u001b[39m=\u001b[39m \u001b[39m\"\u001b[39m\u001b[39mUnits: \u001b[39m\u001b[39m\"\u001b[39m\u001b[39m+\u001b[39munits\n\u001b[1;32m---> 55\u001b[0m minValue \u001b[39m=\u001b[39m \u001b[39mmin\u001b[39;49m(values)\n\u001b[0;32m     56\u001b[0m maxValue \u001b[39m=\u001b[39m \u001b[39mmax\u001b[39m(values)\n\u001b[0;32m     57\u001b[0m step \u001b[39m=\u001b[39m (maxValue \u001b[39m-\u001b[39m minValue)\u001b[39m/\u001b[39m\u001b[39mfloat\u001b[39m(nTicks\u001b[39m-\u001b[39m\u001b[39m1\u001b[39m)\n",
      "\u001b[1;31mTypeError\u001b[0m: '<' not supported between instances of 'NoneType' and 'NoneType'"
     ]
    }
   ],
   "source": [
    "# Create a Plotly figure and draw it.\n",
    "# Create a cluster to represent the building envelope (translucent). This is just for visualisation.\n",
    "envelopeCluster = Cluster.ByTopologies(cells+apertures+Topology.Faces(shadingSurfaces))\n",
    "plotlyData = Plotly.DataByTopology(envelopeCluster, faceOpacity=0.1)\n",
    "\n",
    "# Add the color-coded faces\n",
    "colorScale = \"thermal\"\n",
    "#plotlyData += Plotly.DataByTopology(faceCluster, faceOpacity=1, faceGroupKey=\"value\",\n",
    "#                              faceLabelKey=\"label\", faceGroups=values,\n",
    "#                              colorScale=colorScale)\n",
    "# Create a Plotly Figure\n",
    "figure = Plotly.FigureByData(plotlyData, width=800, height=600)\n",
    "\n",
    "# Add a colorbar\n",
    "figure = Plotly.AddColorBar(figure, values=values, width=30, outlineWidth=1,\n",
    "                            nTicks=len(values), title=tableName, subTitle=columnName,\n",
    "                            units=units, colorScale=colorScale, mantissa=2)\n",
    "# Show plotly figure\n",
    "Plotly.Show(figure)"
   ]
  },
  {
   "cell_type": "code",
   "execution_count": null,
   "id": "48c08127",
   "metadata": {},
   "outputs": [],
   "source": []
  }
 ],
 "metadata": {
  "kernelspec": {
   "display_name": "Python 3 (ipykernel)",
   "language": "python",
   "name": "python3"
  },
  "language_info": {
   "codemirror_mode": {
    "name": "ipython",
    "version": 3
   },
   "file_extension": ".py",
   "mimetype": "text/x-python",
   "name": "python",
   "nbconvert_exporter": "python",
   "pygments_lexer": "ipython3",
   "version": "3.9.16"
  }
 },
 "nbformat": 4,
 "nbformat_minor": 5
}
